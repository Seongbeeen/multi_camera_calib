{
 "cells": [
  {
   "cell_type": "code",
   "execution_count": 1,
   "id": "eb85f4fd",
   "metadata": {},
   "outputs": [
    {
     "name": "stdout",
     "output_type": "stream",
     "text": [
      "Jupyter environment detected. Enabling Open3D WebVisualizer.\n",
      "[Open3D INFO] WebRTC GUI backend enabled.\n",
      "[Open3D INFO] WebRTCWindowSystem: HTTP handshake server disabled.\n"
     ]
    }
   ],
   "source": [
    "import cv2\n",
    "import numpy as np\n",
    "import os\n",
    "import time\n",
    "from collections import defaultdict\n",
    "import matplotlib.pyplot as plt\n",
    "import open3d as o3d\n",
    "from glob import glob\n",
    "from natsort import natsorted as nat"
   ]
  },
  {
   "cell_type": "code",
   "execution_count": 29,
   "id": "92c78b59",
   "metadata": {},
   "outputs": [],
   "source": [
    "DEPTH_SCALE = 0.001\n",
    "MIN_Z, MAX_Z = 0.05, 1.3\n",
    "def depth_to_colored_pointcloud_world(depth_path, rgb_path, K, D, rvec, tvec, stride=4):\n",
    "    depth_raw = cv2.imread(depth_path, cv2.IMREAD_UNCHANGED)\n",
    "    rgb_img   = cv2.cvtColor(cv2.imread(rgb_path), cv2.COLOR_BGR2RGB)\n",
    "    if depth_raw is None or rgb_img is None:\n",
    "        raise FileNotFoundError(\"Depth or RGB image not found.\")\n",
    "\n",
    "    if depth_raw.dtype != np.float32:\n",
    "        depth = depth_raw.astype(np.float32) * DEPTH_SCALE\n",
    "    else:\n",
    "        depth = depth_raw\n",
    "\n",
    "    fx, fy = K[0,0], K[1,1]\n",
    "    cx, cy = K[0,2], K[1,2]\n",
    "    h, w = depth.shape\n",
    "\n",
    "    points_world, colors = [], []\n",
    "    for v in range(0, h, stride):\n",
    "        for u in range(0, w, stride):\n",
    "            z = depth[v, u]\n",
    "            if z < MIN_Z or z > MAX_Z or z <= 0 or np.isnan(z):\n",
    "                continue\n",
    "            x = (u - cx) * z / fx\n",
    "            y = (v - cy) * z / fy\n",
    "            X_cam = np.array([x, y, z], dtype=np.float32)\n",
    "            points_world.append(X_cam)\n",
    "            colors.append(rgb_img[v, u] / 255.0)\n",
    "\n",
    "    if not points_world:\n",
    "        return np.empty((0,3), np.float32), np.empty((0,3), np.float32)\n",
    "    return np.asarray(points_world, np.float32), np.asarray(colors, np.float32)"
   ]
  },
  {
   "cell_type": "code",
   "execution_count": 30,
   "id": "9fad92d1",
   "metadata": {},
   "outputs": [],
   "source": [
    "root_folder=\"E:/Dropbox/real2sim/2025_point/frames/0801_checkerboard\"\n",
    "# root_folder=\"../multi_camera_calib/test_0814_2/\"\n",
    "pattern_size = (10, 6)\n",
    "square_size = 0.025"
   ]
  },
  {
   "cell_type": "code",
   "execution_count": 31,
   "id": "8d510371",
   "metadata": {},
   "outputs": [
    {
     "data": {
      "text/plain": [
       "([['E:/Dropbox/real2sim/2025_point/frames/0801_checkerboard/cam0/rgb_000.jpg'],\n",
       "  ['E:/Dropbox/real2sim/2025_point/frames/0801_checkerboard/cam1/rgb_000.jpg']],\n",
       " [['E:/Dropbox/real2sim/2025_point/frames/0801_checkerboard/cam0/depth_000.png'],\n",
       "  ['E:/Dropbox/real2sim/2025_point/frames/0801_checkerboard/cam1/depth_000.png']])"
      ]
     },
     "execution_count": 31,
     "metadata": {},
     "output_type": "execute_result"
    }
   ],
   "source": [
    "rgb_paths = []\n",
    "depth_paths = []\n",
    "for cam_idx in range(2):\n",
    "    rgb_paths.append(nat(glob(f\"{root_folder}/cam{cam_idx}/rgb_000.jpg\")))\n",
    "    depth_paths.append(nat(glob(f\"{root_folder}/cam{cam_idx}/depth_000.png\")))\n",
    "rgb_paths, depth_paths"
   ]
  },
  {
   "cell_type": "code",
   "execution_count": 32,
   "id": "dc3719d0",
   "metadata": {},
   "outputs": [],
   "source": [
    "K1 = np.load(\"./src/test/K1.npy\")\n",
    "D1 = np.load(\"./src/test/D1.npy\")\n",
    "rvecs1 = np.load(\"./src/test/rvecs1.npy\")\n",
    "tvecs1 = np.load(\"./src/test/tvecs1.npy\")\n",
    "K2 = np.load(\"./src/test/K2.npy\")\n",
    "D2 = np.load(\"./src/test/D2.npy\")\n",
    "rvecs2 = np.load(\"./src/test/rvecs2.npy\")\n",
    "tvecs2 = np.load(\"./src/test/tvecs2.npy\")"
   ]
  },
  {
   "cell_type": "code",
   "execution_count": 33,
   "id": "027d15f0",
   "metadata": {},
   "outputs": [],
   "source": [
    "def make_colored_pcd(points, colors):\n",
    "    pcd = o3d.geometry.PointCloud()\n",
    "    if points.size > 0:\n",
    "        pcd.points = o3d.utility.Vector3dVector(points)\n",
    "        pcd.colors = o3d.utility.Vector3dVector(colors)\n",
    "    return pcd"
   ]
  },
  {
   "cell_type": "code",
   "execution_count": 36,
   "id": "5bc00055",
   "metadata": {},
   "outputs": [
    {
     "name": "stdout",
     "output_type": "stream",
     "text": [
      "E:/Dropbox/real2sim/2025_point/frames/0801_checkerboard/cam0/depth_000.png E:/Dropbox/real2sim/2025_point/frames/0801_checkerboard/cam0/rgb_000.jpg\n",
      "E:/Dropbox/real2sim/2025_point/frames/0801_checkerboard/cam1/depth_000.png E:/Dropbox/real2sim/2025_point/frames/0801_checkerboard/cam1/rgb_000.jpg\n"
     ]
    }
   ],
   "source": [
    "pcds = []\n",
    "for idx, (rgb_path, depth_path) in enumerate(zip(rgb_paths, depth_paths)):\n",
    "    print(depth_path[0], rgb_path[0])\n",
    "    if idx==0:\n",
    "        K, D, rvec, tvec = K1, D1, rvecs1, tvecs1\n",
    "        points, colors = depth_to_colored_pointcloud_world(depth_path[0], rgb_path[0], K, D, rvec, tvec, stride=4)\n",
    "        \n",
    "        ###\n",
    "        R1, _ = cv2.Rodrigues(rvecs1)\n",
    "        R2, _ = cv2.Rodrigues(rvecs2)\n",
    "        t1 = np.asarray(tvecs1).reshape(3,1)\n",
    "        t2 = np.asarray(tvecs2).reshape(3,1)\n",
    "        R21 = R2 @ R1.T\n",
    "        t21 = t2 - R21 @ t1\n",
    "        ###\n",
    "        points_new = points @ R21.T + t21.reshape(3)\n",
    "        pcd = make_colored_pcd(points_new, colors)\n",
    "        \n",
    "    else:\n",
    "        K, D, rvec, tvec = K2, D2, rvecs2, tvecs2\n",
    "        points, colors = depth_to_colored_pointcloud_world(depth_path[0], rgb_path[0], K, D, rvec, tvec, stride=4)\n",
    "        pcd = make_colored_pcd(points, colors)\n",
    "    pcds.append(pcd)\n",
    "o3d.visualization.draw_geometries(pcds)\n",
    "    "
   ]
  },
  {
   "cell_type": "code",
   "execution_count": 37,
   "id": "734d2dd1",
   "metadata": {},
   "outputs": [
    {
     "name": "stdout",
     "output_type": "stream",
     "text": [
      "hello gina~? What are you doing~~\n",
      "Oh!  I'm just looking for my new keyboard~~\n",
      "Ah jin jja?? I'll buy new one for you -sungbeen-\n",
      "oh.. I'll no sayang.. thank you...\n",
      "E:/Dropbox/real2sim/2025_point/frames/0801_checkerboard/cam0/depth_000.png E:/Dropbox/real2sim/2025_point/frames/0801_checkerboard/cam0/rgb_000.jpg\n",
      "E:/Dropbox/real2sim/2025_point/frames/0801_checkerboard/cam1/depth_000.png E:/Dropbox/real2sim/2025_point/frames/0801_checkerboard/cam1/rgb_000.jpg\n"
     ]
    }
   ],
   "source": [
    "T_new = np.array([[ 0.99939086, -0.00381452,  0.03468956, -0.09666087],\n",
    "       [ 0.00459311,  0.99973871, -0.02239249,  0.001214  ],\n",
    "       [-0.03459508,  0.02253818,  0.99914724, -0.0083927 ],\n",
    "       [ 0.        ,  0.        ,  0.        ,  1.        ]])\n",
    "print(\"hello gina~? What are you doing~~\")\n",
    "print(\"Oh!  I'm just looking for my new keyboard~~\")\n",
    "print(\"Ah jin jja?? I'll buy new one for you -sungbeen-\")\n",
    "print(\"oh.. I'll no sayang.. thank you...\")\n",
    "\n",
    "\n",
    "pcds = []\n",
    "for idx, (rgb_path, depth_path) in enumerate(zip(rgb_paths, depth_paths)):\n",
    "    print(depth_path[0], rgb_path[0])\n",
    "    if idx==1:\n",
    "        K, D, rvec, tvec = K2, D2, rvecs2, tvecs2\n",
    "        points, colors = depth_to_colored_pointcloud_world(depth_path[0], rgb_path[0], K, D, rvec, tvec, stride=4)\n",
    "        \n",
    "        \n",
    "        ###\n",
    "        R1, _ = cv2.Rodrigues(rvecs1)\n",
    "        R2, _ = cv2.Rodrigues(rvecs2)\n",
    "        t1 = np.asarray(tvecs1).reshape(3,1)\n",
    "        t2 = np.asarray(tvecs2).reshape(3,1)\n",
    "        R21 = R1 @ R2.T\n",
    "        t21 = t1 - R21 @ t2\n",
    "        ###\n",
    "        points_new = points @ R21.T + t21.reshape(3)\n",
    "        # points_new = points@(((T_new)[:3,:3]).T)+(T_new)[:3,3]\n",
    "        pcd = make_colored_pcd(points_new, colors)\n",
    "        \n",
    "    else: # idx==0\n",
    "        K, D, rvec, tvec = K1, D1, rvecs1, tvecs1\n",
    "        points, colors = depth_to_colored_pointcloud_world(depth_path[0], rgb_path[0], K, D, rvec, tvec, stride=4)\n",
    "        R1 = np.eye(4)[:3,:3]\n",
    "        t1 = np.eye(4)[:3,3]\n",
    "        points_new = points @ R1.T + t1.reshape(3)\n",
    "        pcd = make_colored_pcd(points_new, colors)\n",
    "    pcds.append(pcd)\n",
    "o3d.visualization.draw_geometries(pcds)\n",
    "    "
   ]
  },
  {
   "cell_type": "code",
   "execution_count": 27,
   "id": "1d8f4c98",
   "metadata": {},
   "outputs": [
    {
     "data": {
      "text/plain": [
       "(array([[ 0.60493422,  0.02211991, -0.79596815],\n",
       "        [ 0.02529836,  0.99857556,  0.04697706],\n",
       "        [ 0.79587347, -0.04855472,  0.60351293]]),\n",
       " array([[ 0.47199671],\n",
       "        [-0.01305847],\n",
       "        [ 0.20570122]]))"
      ]
     },
     "execution_count": 27,
     "metadata": {},
     "output_type": "execute_result"
    }
   ],
   "source": [
    "R21, t21"
   ]
  },
  {
   "cell_type": "code",
   "execution_count": null,
   "id": "8de3d62e",
   "metadata": {},
   "outputs": [],
   "source": []
  },
  {
   "cell_type": "code",
   "execution_count": null,
   "id": "255b0010",
   "metadata": {},
   "outputs": [],
   "source": []
  },
  {
   "cell_type": "code",
   "execution_count": null,
   "id": "186952ac",
   "metadata": {},
   "outputs": [],
   "source": []
  },
  {
   "cell_type": "code",
   "execution_count": null,
   "id": "d636a60d",
   "metadata": {},
   "outputs": [],
   "source": []
  },
  {
   "cell_type": "code",
   "execution_count": null,
   "id": "1d14a75e",
   "metadata": {},
   "outputs": [],
   "source": []
  },
  {
   "cell_type": "code",
   "execution_count": null,
   "id": "ba1fa764",
   "metadata": {},
   "outputs": [],
   "source": []
  }
 ],
 "metadata": {
  "kernelspec": {
   "display_name": "torch2",
   "language": "python",
   "name": "python3"
  },
  "language_info": {
   "codemirror_mode": {
    "name": "ipython",
    "version": 3
   },
   "file_extension": ".py",
   "mimetype": "text/x-python",
   "name": "python",
   "nbconvert_exporter": "python",
   "pygments_lexer": "ipython3",
   "version": "3.8.10"
  }
 },
 "nbformat": 4,
 "nbformat_minor": 5
}
